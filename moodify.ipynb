{
 "cells": [
  {
   "cell_type": "code",
   "execution_count": 2,
   "id": "initial_id",
   "metadata": {
    "ExecuteTime": {
     "end_time": "2025-05-23T17:48:00.511868Z",
     "start_time": "2025-05-23T17:48:00.502839Z"
    },
    "collapsed": true
   },
   "outputs": [],
   "source": [
    "import os\n",
    "from dotenv import load_dotenv\n",
    "\n",
    "load_dotenv()\n",
    "\n",
    "client_id = os.getenv(\"SPOTIFY_CLIENT_ID\")\n",
    "client_secret = os.getenv(\"SPOTIFY_CLIENT_SECRET\")"
   ]
  },
  {
   "cell_type": "code",
   "execution_count": 10,
   "id": "f3309798959ad582",
   "metadata": {
    "ExecuteTime": {
     "end_time": "2025-05-23T17:51:46.988810Z",
     "start_time": "2025-05-23T17:51:46.985437Z"
    }
   },
   "outputs": [],
   "source": [
    "# Mood Analyzer\n",
    "class MoodAnalyzer:\n",
    "    def __init__(self):\n",
    "        self.mood_map = {\n",
    "            \"happy\": [\"pop\", \"dance\"],\n",
    "            \"focused\": [\"calming soothing wave sounds\", \"instrumental\"],\n",
    "            \"sad\": [\"acoustic\", \"piano\", \"emo\"],\n",
    "            \"angry\": [\"rock\", \"heavy metal\", \"aggressive classical music\"],\n",
    "            \"relaxed\": [\"lofi beats\", \"smooth jazz\", \"easy listening\"],\n",
    "            \"nostalgic\": [\"classic hits\", \"80s pop\", \"soft rock\"],\n",
    "            \"romantic\": [\"love ballads\", \"slow r&b\", \"soft pop\"],\n",
    "            \"confident\": [\"hip hop\", \"power pop\", \"electropop\"],\n",
    "            \"excited\": [\"club\", \"dance pop\", \"pop punk\"],\n",
    "            \"tired\": [\"dream pop\", \"chill acoustic\", \"soft indie\"],\n",
    "            \"motivated\": [\"workout pop\", \"motivational rap\", \"anthem pop\"],\n",
    "            \"lonely\": [\"indie ballads\", \"sad pop\", \"soft piano\"],\n",
    "            \"hopeful\": [\"uplifting pop\", \"inspirational acoustic\", \"orchestral pop\"],\n",
    "            \"bored\": [\"funk\", \"disco\", \"groove\"]\n",
    "        }\n",
    "\n",
    "    def get_genres(self, mood):\n",
    "        mood = mood.lower()\n",
    "        \"default\"\n",
    "        return self.mood_map.get(mood, [\"pop\"])"
   ]
  },
  {
   "cell_type": "code",
   "execution_count": 5,
   "id": "281abdf4eb4805c",
   "metadata": {
    "ExecuteTime": {
     "end_time": "2025-05-23T17:48:42.356031Z",
     "start_time": "2025-05-23T17:48:42.287015Z"
    }
   },
   "outputs": [],
   "source": [
    "# Spotify Connect\n",
    "import spotipy\n",
    "from spotipy.oauth2 import SpotifyClientCredentials\n",
    "\n",
    "class SpotifyConnect:\n",
    "    def __init__(self, client_id, client_secret):\n",
    "        self.sp = spotipy.Spotify(auth_manager=SpotifyClientCredentials(\n",
    "            client_id=client_id,\n",
    "            client_secret=client_secret\n",
    "        ))\n",
    "\n",
    "    def get_tracks_by_genres(self, genres, limit=5):\n",
    "        results_list = []\n",
    "        for genre in genres:\n",
    "            results = self.sp.search(q=f'genre:{genre}', type='track', limit=limit)\n",
    "            for item in results['tracks']['items']:\n",
    "                results_list.append({\n",
    "                    'title': item['name'],\n",
    "                    'artist': item['artists'][0]['name'],\n",
    "                    'url': item['external_urls']['spotify']\n",
    "                })\n",
    "        return results_list"
   ]
  },
  {
   "cell_type": "code",
   "execution_count": 6,
   "id": "82bd69ed4e48d26b",
   "metadata": {
    "ExecuteTime": {
     "end_time": "2025-05-23T17:48:44.221858Z",
     "start_time": "2025-05-23T17:48:44.218678Z"
    }
   },
   "outputs": [],
   "source": [
    "# Playlist Recommender\n",
    "class PlaylistRecommender:\n",
    "    def __init__(self, mood_analyzer, spotify_connect):\n",
    "        self.mood_analyzer = mood_analyzer\n",
    "        self.spotify_connect = spotify_connect\n",
    "\n",
    "    def recommend(self, mood, limit=5):\n",
    "        genres = self.mood_analyzer.get_genres(mood)\n",
    "        tracks = self.spotify_connect.get_tracks_by_genres(genres, limit)\n",
    "        return tracks"
   ]
  },
  {
   "cell_type": "code",
   "execution_count": 11,
   "id": "baee167bae2ad957",
   "metadata": {},
   "outputs": [
    {
     "name": "stdout",
     "output_type": "stream",
     "text": [
      "\n",
      "🎶 Your Mood-Based Playlist:\n",
      "\n",
      "1. BIRDS OF A FEATHER by Billie Eilish\n",
      "   Listen: https://open.spotify.com/track/6dOtVTDdiauQNBQEDOtlAB\n",
      "\n",
      "2. No One Noticed by The Marías\n",
      "   Listen: https://open.spotify.com/track/3siwsiaEoU4Kuuc9WKMUy5\n",
      "\n",
      "3. Good Luck, Babe! by Chappell Roan\n",
      "   Listen: https://open.spotify.com/track/0WbMK4wrZ1wFSty9F7FCgu\n",
      "\n",
      "4. Die With A Smile by Lady Gaga\n",
      "   Listen: https://open.spotify.com/track/2plbrEY59IikOBgBGLjaoe\n",
      "\n",
      "5. WILDFLOWER by Billie Eilish\n",
      "   Listen: https://open.spotify.com/track/3QaPy1KgI7nu9FJEQUgn6h\n",
      "\n"
     ]
    }
   ],
   "source": [
    "# Tester\n",
    "mood_analyzer = MoodAnalyzer()\n",
    "spotify = SpotifyConnect(client_id, client_secret)\n",
    "recommender = PlaylistRecommender(mood_analyzer, spotify)\n",
    "\n",
    "mood = input(\"What's your mood? (e.g., happy, sad, angry, focused, Mr. Perez): \")\n",
    "\n",
    "recommended_tracks = recommender.recommend(mood, limit=5)\n",
    "\n",
    "print(\"\\n🎶 Your Mood-Based Playlist:\\n\")\n",
    "for i, track in enumerate(recommended_tracks, start=1):\n",
    "    print(f\"{i}. {track['title']} by {track['artist']}\")\n",
    "    print(f\"   Listen: {track['url']}\\n\")"
   ]
  },
  {
   "cell_type": "code",
   "execution_count": null,
   "id": "9fcbbae217b99e9c",
   "metadata": {},
   "outputs": [],
   "source": []
  }
 ],
 "metadata": {
  "kernelspec": {
   "display_name": "Python 3",
   "language": "python",
   "name": "python3"
  },
  "language_info": {
   "codemirror_mode": {
    "name": "ipython",
    "version": 2
   },
   "file_extension": ".py",
   "mimetype": "text/x-python",
   "name": "python",
   "nbconvert_exporter": "python",
   "pygments_lexer": "ipython2",
   "version": "2.7.6"
  }
 },
 "nbformat": 4,
 "nbformat_minor": 5
}
