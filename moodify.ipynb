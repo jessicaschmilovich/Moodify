{
 "cells": [
  {
   "cell_type": "code",
   "id": "initial_id",
   "metadata": {
    "collapsed": true,
    "ExecuteTime": {
     "end_time": "2025-05-23T18:10:32.657945Z",
     "start_time": "2025-05-23T18:10:32.651613Z"
    }
   },
   "source": [
    "import os\n",
    "from dotenv import load_dotenv\n",
    "\n",
    "load_dotenv()\n",
    "\n",
    "client_id = os.getenv(\"SPOTIFY_CLIENT_ID\")\n",
    "client_secret = os.getenv(\"SPOTIFY_CLIENT_SECRET\")"
   ],
   "outputs": [],
   "execution_count": 1
  },
  {
   "cell_type": "code",
   "id": "f3309798959ad582",
   "metadata": {
    "ExecuteTime": {
     "end_time": "2025-05-23T18:10:33.957536Z",
     "start_time": "2025-05-23T18:10:33.954702Z"
    }
   },
   "source": [
    "# Mood Analyzer\n",
    "class MoodAnalyzer:\n",
    "    def __init__(self):\n",
    "        self.mood_map = {\n",
    "            \"happy\": [\"pop\", \"dance\"],\n",
    "            \"focused\": [\"calming soothing wave sounds\", \"instrumental\"],\n",
    "            \"sad\": [\"acoustic\", \"piano\", \"emo\"],\n",
    "            \"angry\": [\"rock\", \"heavy metal\", \"aggressive classical music\"],\n",
    "            \"relaxed\": [\"lofi beats\", \"smooth jazz\", \"easy listening\"],\n",
    "            \"nostalgic\": [\"classic hits\", \"80s pop\", \"soft rock\"],\n",
    "            \"romantic\": [\"love ballads\", \"slow r&b\", \"soft pop\"],\n",
    "            \"confident\": [\"hip hop\", \"power pop\", \"electropop\"],\n",
    "            \"excited\": [\"club\", \"dance pop\", \"pop punk\"],\n",
    "            \"tired\": [\"dream pop\", \"chill acoustic\", \"soft indie\"],\n",
    "            \"motivated\": [\"workout pop\", \"motivational rap\", \"anthem pop\"],\n",
    "            \"lonely\": [\"indie ballads\", \"sad pop\", \"soft piano\"],\n",
    "            \"hopeful\": [\"uplifting pop\", \"inspirational acoustic\", \"orchestral pop\"],\n",
    "            \"bored\": [\"funk\", \"disco\", \"groove\"]\n",
    "        }\n",
    "\n",
    "    def get_genres(self, mood):\n",
    "        mood = mood.lower()\n",
    "        \"default\"\n",
    "        return self.mood_map.get(mood, [\"pop\"])"
   ],
   "outputs": [],
   "execution_count": 2
  },
  {
   "cell_type": "code",
   "id": "281abdf4eb4805c",
   "metadata": {
    "ExecuteTime": {
     "end_time": "2025-05-23T18:10:36.157919Z",
     "start_time": "2025-05-23T18:10:36.100778Z"
    }
   },
   "source": [
    "# Spotify Connect\n",
    "import spotipy\n",
    "from spotipy.oauth2 import SpotifyClientCredentials\n",
    "\n",
    "class SpotifyConnect:\n",
    "    def __init__(self, client_id, client_secret):\n",
    "        self.sp = spotipy.Spotify(auth_manager=SpotifyClientCredentials(\n",
    "            client_id=client_id,\n",
    "            client_secret=client_secret\n",
    "        ))\n",
    "\n",
    "    def get_tracks_by_genres(self, genres, limit=5):\n",
    "        results_list = []\n",
    "        for genre in genres:\n",
    "            results = self.sp.search(q=f'genre:{genre}', type='track', limit=limit)\n",
    "            for item in results['tracks']['items']:\n",
    "                results_list.append({\n",
    "                    'title': item['name'],\n",
    "                    'artist': item['artists'][0]['name'],\n",
    "                    'url': item['external_urls']['spotify']\n",
    "                })\n",
    "        return results_list"
   ],
   "outputs": [],
   "execution_count": 3
  },
  {
   "cell_type": "code",
   "id": "82bd69ed4e48d26b",
   "metadata": {
    "ExecuteTime": {
     "end_time": "2025-05-23T18:10:37.930218Z",
     "start_time": "2025-05-23T18:10:37.928208Z"
    }
   },
   "source": [
    "# Playlist Recommender\n",
    "class PlaylistRecommender:\n",
    "    def __init__(self, mood_analyzer, spotify_connect):\n",
    "        self.mood_analyzer = mood_analyzer\n",
    "        self.spotify_connect = spotify_connect\n",
    "\n",
    "    def recommend(self, mood, limit=5):\n",
    "        genres = self.mood_analyzer.get_genres(mood)\n",
    "        tracks = self.spotify_connect.get_tracks_by_genres(genres, limit)\n",
    "        return tracks"
   ],
   "outputs": [],
   "execution_count": 4
  },
  {
   "cell_type": "code",
   "id": "baee167bae2ad957",
   "metadata": {
    "ExecuteTime": {
     "end_time": "2025-05-23T18:10:43.120303Z",
     "start_time": "2025-05-23T18:10:39.476436Z"
    }
   },
   "source": [
    "# Tester\n",
    "mood_analyzer = MoodAnalyzer()\n",
    "spotify = SpotifyConnect(client_id, client_secret)\n",
    "recommender = PlaylistRecommender(mood_analyzer, spotify)\n",
    "\n",
    "mood = input(\"What's your mood? (e.g., happy, sad, angry, focused, relaxed, nostalgic, romantic, confident, excited, tired, motivated, lonely, hopeful, bored): \")\n",
    "\n",
    "recommended_tracks = recommender.recommend(mood, limit=5)\n",
    "\n",
    "print(\"\\n🎶 Your Mood-Based Playlist:\\n\")\n",
    "for i, track in enumerate(recommended_tracks, start=1):\n",
    "    print(f\"{i}. {track['title']} by {track['artist']}\")\n",
    "    print(f\"   Listen: {track['url']}\\n\")"
   ],
   "outputs": [
    {
     "ename": "KeyboardInterrupt",
     "evalue": "Interrupted by user",
     "output_type": "error",
     "traceback": [
      "\u001B[31m---------------------------------------------------------------------------\u001B[39m",
      "\u001B[31mKeyboardInterrupt\u001B[39m                         Traceback (most recent call last)",
      "\u001B[36mCell\u001B[39m\u001B[36m \u001B[39m\u001B[32mIn[5]\u001B[39m\u001B[32m, line 6\u001B[39m\n\u001B[32m      3\u001B[39m spotify = SpotifyConnect(client_id, client_secret)\n\u001B[32m      4\u001B[39m recommender = PlaylistRecommender(mood_analyzer, spotify)\n\u001B[32m----> \u001B[39m\u001B[32m6\u001B[39m mood = \u001B[38;5;28;43minput\u001B[39;49m\u001B[43m(\u001B[49m\u001B[33;43m\"\u001B[39;49m\u001B[33;43mWhat\u001B[39;49m\u001B[33;43m'\u001B[39;49m\u001B[33;43ms your mood? (e.g., happy, sad, angry, focused, Mr. Perez): \u001B[39;49m\u001B[33;43m\"\u001B[39;49m\u001B[43m)\u001B[49m\n\u001B[32m      8\u001B[39m recommended_tracks = recommender.recommend(mood, limit=\u001B[32m5\u001B[39m)\n\u001B[32m     10\u001B[39m \u001B[38;5;28mprint\u001B[39m(\u001B[33m\"\u001B[39m\u001B[38;5;130;01m\\n\u001B[39;00m\u001B[33m🎶 Your Mood-Based Playlist:\u001B[39m\u001B[38;5;130;01m\\n\u001B[39;00m\u001B[33m\"\u001B[39m)\n",
      "\u001B[36mFile \u001B[39m\u001B[32m~/PycharmProjects/moodify/.venv/lib/python3.12/site-packages/ipykernel/kernelbase.py:1282\u001B[39m, in \u001B[36mKernel.raw_input\u001B[39m\u001B[34m(self, prompt)\u001B[39m\n\u001B[32m   1280\u001B[39m     msg = \u001B[33m\"\u001B[39m\u001B[33mraw_input was called, but this frontend does not support input requests.\u001B[39m\u001B[33m\"\u001B[39m\n\u001B[32m   1281\u001B[39m     \u001B[38;5;28;01mraise\u001B[39;00m StdinNotImplementedError(msg)\n\u001B[32m-> \u001B[39m\u001B[32m1282\u001B[39m \u001B[38;5;28;01mreturn\u001B[39;00m \u001B[38;5;28;43mself\u001B[39;49m\u001B[43m.\u001B[49m\u001B[43m_input_request\u001B[49m\u001B[43m(\u001B[49m\n\u001B[32m   1283\u001B[39m \u001B[43m    \u001B[49m\u001B[38;5;28;43mstr\u001B[39;49m\u001B[43m(\u001B[49m\u001B[43mprompt\u001B[49m\u001B[43m)\u001B[49m\u001B[43m,\u001B[49m\n\u001B[32m   1284\u001B[39m \u001B[43m    \u001B[49m\u001B[38;5;28;43mself\u001B[39;49m\u001B[43m.\u001B[49m\u001B[43m_parent_ident\u001B[49m\u001B[43m[\u001B[49m\u001B[33;43m\"\u001B[39;49m\u001B[33;43mshell\u001B[39;49m\u001B[33;43m\"\u001B[39;49m\u001B[43m]\u001B[49m\u001B[43m,\u001B[49m\n\u001B[32m   1285\u001B[39m \u001B[43m    \u001B[49m\u001B[38;5;28;43mself\u001B[39;49m\u001B[43m.\u001B[49m\u001B[43mget_parent\u001B[49m\u001B[43m(\u001B[49m\u001B[33;43m\"\u001B[39;49m\u001B[33;43mshell\u001B[39;49m\u001B[33;43m\"\u001B[39;49m\u001B[43m)\u001B[49m\u001B[43m,\u001B[49m\n\u001B[32m   1286\u001B[39m \u001B[43m    \u001B[49m\u001B[43mpassword\u001B[49m\u001B[43m=\u001B[49m\u001B[38;5;28;43;01mFalse\u001B[39;49;00m\u001B[43m,\u001B[49m\n\u001B[32m   1287\u001B[39m \u001B[43m\u001B[49m\u001B[43m)\u001B[49m\n",
      "\u001B[36mFile \u001B[39m\u001B[32m~/PycharmProjects/moodify/.venv/lib/python3.12/site-packages/ipykernel/kernelbase.py:1325\u001B[39m, in \u001B[36mKernel._input_request\u001B[39m\u001B[34m(self, prompt, ident, parent, password)\u001B[39m\n\u001B[32m   1322\u001B[39m \u001B[38;5;28;01mexcept\u001B[39;00m \u001B[38;5;167;01mKeyboardInterrupt\u001B[39;00m:\n\u001B[32m   1323\u001B[39m     \u001B[38;5;66;03m# re-raise KeyboardInterrupt, to truncate traceback\u001B[39;00m\n\u001B[32m   1324\u001B[39m     msg = \u001B[33m\"\u001B[39m\u001B[33mInterrupted by user\u001B[39m\u001B[33m\"\u001B[39m\n\u001B[32m-> \u001B[39m\u001B[32m1325\u001B[39m     \u001B[38;5;28;01mraise\u001B[39;00m \u001B[38;5;167;01mKeyboardInterrupt\u001B[39;00m(msg) \u001B[38;5;28;01mfrom\u001B[39;00m\u001B[38;5;250m \u001B[39m\u001B[38;5;28;01mNone\u001B[39;00m\n\u001B[32m   1326\u001B[39m \u001B[38;5;28;01mexcept\u001B[39;00m \u001B[38;5;167;01mException\u001B[39;00m:\n\u001B[32m   1327\u001B[39m     \u001B[38;5;28mself\u001B[39m.log.warning(\u001B[33m\"\u001B[39m\u001B[33mInvalid Message:\u001B[39m\u001B[33m\"\u001B[39m, exc_info=\u001B[38;5;28;01mTrue\u001B[39;00m)\n",
      "\u001B[31mKeyboardInterrupt\u001B[39m: Interrupted by user"
     ]
    }
   ],
   "execution_count": 5
  },
  {
   "cell_type": "code",
   "execution_count": null,
   "id": "9fcbbae217b99e9c",
   "metadata": {},
   "outputs": [],
   "source": []
  }
 ],
 "metadata": {
  "kernelspec": {
   "display_name": "Python 3",
   "language": "python",
   "name": "python3"
  },
  "language_info": {
   "codemirror_mode": {
    "name": "ipython",
    "version": 2
   },
   "file_extension": ".py",
   "mimetype": "text/x-python",
   "name": "python",
   "nbconvert_exporter": "python",
   "pygments_lexer": "ipython2",
   "version": "2.7.6"
  }
 },
 "nbformat": 4,
 "nbformat_minor": 5
}
